{
 "cells": [
  {
   "cell_type": "code",
   "execution_count": 35,
   "id": "31632954-4759-4366-9961-95692d9d6b7d",
   "metadata": {},
   "outputs": [],
   "source": [
    "# prepare scripts for different purposes\n",
    "import math\n",
    "import time\n",
    "import os"
   ]
  },
  {
   "cell_type": "code",
   "execution_count": 44,
   "id": "445a0066-7aca-4986-bec2-aa77fd2bc0c5",
   "metadata": {},
   "outputs": [],
   "source": [
    "def put_evenly_spaced_run(algorithm, device_type, maxlen, count, iterations=1, file=None):\n",
    "    mx = maxlen * maxlen\n",
    "    mn = mx / count\n",
    "    for i in range(count):\n",
    "        size2 = mn + i * mn\n",
    "        size = int(math.sqrt(size2))\n",
    "        size_a = size\n",
    "        size_b = size\n",
    "        print(f\"algorithm={algorithm} device_type={device_type} size_a={size_a} size_b={size_b} iterations={iterations}\",\n",
    "             file=file)"
   ]
  },
  {
   "cell_type": "code",
   "execution_count": 45,
   "id": "72d7416d-2184-45be-8483-9f540f5136f2",
   "metadata": {},
   "outputs": [
    {
     "name": "stdout",
     "output_type": "stream",
     "text": [
      "algorithm=tiled device_type=cpu size_a=5000 size_b=5000 iterations=1\n",
      "algorithm=tiled device_type=cpu size_a=7071 size_b=7071 iterations=1\n",
      "algorithm=tiled device_type=cpu size_a=8660 size_b=8660 iterations=1\n",
      "algorithm=tiled device_type=cpu size_a=10000 size_b=10000 iterations=1\n"
     ]
    }
   ],
   "source": [
    "put_evenly_spaced_run(\"tiled\", \"cpu\", 10000, 4)"
   ]
  },
  {
   "cell_type": "code",
   "execution_count": 46,
   "id": "a902053b-0a6c-4065-825f-fc3d6170dad2",
   "metadata": {},
   "outputs": [],
   "source": [
    "def tiled_st(SG_SIZE, TILE_M, TILE_N, macro=False):\n",
    "    if macro:\n",
    "        return f\"TILED_ST({SG_SIZE}, {TILE_M}, {TILE_N})\"\n",
    "    else:\n",
    "        return f\"tiled_st_{SG_SIZE}_{TILE_M}_{TILE_N}\"\n",
    "\n",
    "def tiled_mt(SG_SIZE, TILE_M, TILE_N, SUBD, macro=False):\n",
    "    if macro:\n",
    "        return f\"TILED_MT({SG_SIZE}, {TILE_M}, {TILE_N}, {SUBD})\"\n",
    "    else:\n",
    "        return f\"tiled_mt_{SG_SIZE}_{TILE_M}_{TILE_N}_{SUBD}\"\n",
    "\n"
   ]
  },
  {
   "cell_type": "code",
   "execution_count": 47,
   "id": "85b9b750-a308-4f19-9451-f1feaacae95c",
   "metadata": {},
   "outputs": [],
   "source": [
    "def create_test_input_script(input_filename, algolist, device_type, maxlen, count, iterations=1):\n",
    "    with open(input_filename, \"w\") as f:\n",
    "        for algorithm in algolist:\n",
    "            put_evenly_spaced_run(algorithm, device_type, maxlen, count, iterations=iterations, file=f)"
   ]
  },
  {
   "cell_type": "code",
   "execution_count": 48,
   "id": "d33f7c53-84b8-4673-bc11-0c6ce6a792ce",
   "metadata": {},
   "outputs": [],
   "source": [
    "def create_job_script(job_filename, input_filename, result_filename):\n",
    "    with open(job_filename, \"w\") as f:\n",
    "        print(\"#!/bin/bash\", file=f)\n",
    "        print(\"source /opt/intel/oneapi/setvars.sh\", file=f)\n",
    "        print(f\"../../lcs_test '{input_filename}' '{result_filename}'\", file=f)"
   ]
  },
  {
   "cell_type": "code",
   "execution_count": 49,
   "id": "b9051c2e-f560-4623-9268-a5da9b51dbb9",
   "metadata": {},
   "outputs": [],
   "source": [
    "def create_everything(filename, algolist, device_type, maxlen, count, iterations=1, run=True):\n",
    "    input_filename = filename + \".txt\"\n",
    "    result_filename = filename + \".csv\"\n",
    "    job_filename = filename + \".sh\"\n",
    "    create_test_input_script(\"./out/\" + input_filename, algolist, device_type, maxlen, count, iterations)\n",
    "    create_job_script(\"./out/\" + job_filename, input_filename, result_filename)\n",
    "    if run:\n",
    "        print(\"submitting qsub job...\")\n",
    "        os.system(f\"qsub -d ./out -l nodes=1:gpu:ppn=2 ./out/{job_filename}\")\n",
    "\n",
    "    "
   ]
  },
  {
   "cell_type": "code",
   "execution_count": 50,
   "id": "3ebb282e-bdf6-4f9e-8c58-9fbb12b87b9a",
   "metadata": {},
   "outputs": [
    {
     "name": "stdout",
     "output_type": "stream",
     "text": [
      "submitting qsub job...\n",
      "2176977.v-qsvr-1.aidevcloud\n"
     ]
    }
   ],
   "source": [
    "def tiled_st_variants():\n",
    "    algolist = [tiled_st(16, 4, 6)]\n",
    "    create_everything(f\"tiled_st_{time.time()}\", algolist, \"cpu\", 50000, 10)\n",
    "tiled_st_variants()"
   ]
  },
  {
   "cell_type": "code",
   "execution_count": 52,
   "id": "0690d3fc-80dd-4b25-b19f-c63941015330",
   "metadata": {},
   "outputs": [
    {
     "name": "stdout",
     "output_type": "stream",
     "text": [
      "submitting qsub job...\n",
      "2176983.v-qsvr-1.aidevcloud\n"
     ]
    }
   ],
   "source": [
    "def tiled_mt_variants():\n",
    "    algolist = [tiled_mt(16, 4, 6, 8),\n",
    "                tiled_mt(16, 4, 6, 16),\n",
    "                tiled_mt(16, 4, 6, 32)]\n",
    "    create_everything(f\"tiled_mt_{time.time()}\", algolist, \"cpu\", 50000, 10)\n",
    "tiled_mt_variants()"
   ]
  },
  {
   "cell_type": "code",
   "execution_count": 57,
   "id": "ef94b6a6-20c6-4266-b9e6-6d274ef38965",
   "metadata": {},
   "outputs": [
    {
     "name": "stdout",
     "output_type": "stream",
     "text": [
      "submitting qsub job...\n",
      "2177000.v-qsvr-1.aidevcloud\n"
     ]
    }
   ],
   "source": [
    "def tiled_mt_variants_gpu():\n",
    "    algolist = []\n",
    "    for m in range(2, 7):\n",
    "        for n in range(2, 7):\n",
    "            algolist.append(tiled_mt(16, m, n, 128))\n",
    "            algolist.append(tiled_mt(16, m, n, 256))\n",
    "    create_everything(f\"tiled_st_gpu_LARGE\", algolist, \"gpu\", 200000, 200, iterations=2)\n",
    "tiled_mt_variants_gpu()"
   ]
  },
  {
   "cell_type": "code",
   "execution_count": 55,
   "id": "3d5e4e6b-1e42-4fd1-ad00-9f6d19a7518b",
   "metadata": {},
   "outputs": [
    {
     "name": "stdout",
     "output_type": "stream",
     "text": [
      "TILED_MT(16, 2, 2, 128)\n",
      "TILED_MT(16, 2, 2, 256)\n",
      "TILED_MT(16, 2, 3, 128)\n",
      "TILED_MT(16, 2, 3, 256)\n",
      "TILED_MT(16, 2, 4, 128)\n",
      "TILED_MT(16, 2, 4, 256)\n",
      "TILED_MT(16, 2, 5, 128)\n",
      "TILED_MT(16, 2, 5, 256)\n",
      "TILED_MT(16, 2, 6, 128)\n",
      "TILED_MT(16, 2, 6, 256)\n",
      "TILED_MT(16, 3, 2, 128)\n",
      "TILED_MT(16, 3, 2, 256)\n",
      "TILED_MT(16, 3, 3, 128)\n",
      "TILED_MT(16, 3, 3, 256)\n",
      "TILED_MT(16, 3, 4, 128)\n",
      "TILED_MT(16, 3, 4, 256)\n",
      "TILED_MT(16, 3, 5, 128)\n",
      "TILED_MT(16, 3, 5, 256)\n",
      "TILED_MT(16, 3, 6, 128)\n",
      "TILED_MT(16, 3, 6, 256)\n",
      "TILED_MT(16, 4, 2, 128)\n",
      "TILED_MT(16, 4, 2, 256)\n",
      "TILED_MT(16, 4, 3, 128)\n",
      "TILED_MT(16, 4, 3, 256)\n",
      "TILED_MT(16, 4, 4, 128)\n",
      "TILED_MT(16, 4, 4, 256)\n",
      "TILED_MT(16, 4, 5, 128)\n",
      "TILED_MT(16, 4, 5, 256)\n",
      "TILED_MT(16, 4, 6, 128)\n",
      "TILED_MT(16, 4, 6, 256)\n",
      "TILED_MT(16, 5, 2, 128)\n",
      "TILED_MT(16, 5, 2, 256)\n",
      "TILED_MT(16, 5, 3, 128)\n",
      "TILED_MT(16, 5, 3, 256)\n",
      "TILED_MT(16, 5, 4, 128)\n",
      "TILED_MT(16, 5, 4, 256)\n",
      "TILED_MT(16, 5, 5, 128)\n",
      "TILED_MT(16, 5, 5, 256)\n",
      "TILED_MT(16, 5, 6, 128)\n",
      "TILED_MT(16, 5, 6, 256)\n",
      "TILED_MT(16, 6, 2, 128)\n",
      "TILED_MT(16, 6, 2, 256)\n",
      "TILED_MT(16, 6, 3, 128)\n",
      "TILED_MT(16, 6, 3, 256)\n",
      "TILED_MT(16, 6, 4, 128)\n",
      "TILED_MT(16, 6, 4, 256)\n",
      "TILED_MT(16, 6, 5, 128)\n",
      "TILED_MT(16, 6, 5, 256)\n",
      "TILED_MT(16, 6, 6, 128)\n",
      "TILED_MT(16, 6, 6, 256)\n"
     ]
    }
   ],
   "source": [
    "for m in range(2, 7):\n",
    "    for n in range(2, 7):\n",
    "        print(tiled_mt(16, m, n, 128, macro=True))\n",
    "        print(tiled_mt(16, m, n, 256, macro=True))"
   ]
  },
  {
   "cell_type": "code",
   "execution_count": null,
   "id": "b935ec6c-0fad-417c-9348-aa482aee4db0",
   "metadata": {},
   "outputs": [],
   "source": []
  }
 ],
 "metadata": {
  "kernelspec": {
   "display_name": "Python 3 (Intel® oneAPI 2023.0)",
   "language": "python",
   "name": "c009-intel_distribution_of_python_3_oneapi-beta05-python"
  },
  "language_info": {
   "codemirror_mode": {
    "name": "ipython",
    "version": 3
   },
   "file_extension": ".py",
   "mimetype": "text/x-python",
   "name": "python",
   "nbconvert_exporter": "python",
   "pygments_lexer": "ipython3",
   "version": "3.9.15"
  }
 },
 "nbformat": 4,
 "nbformat_minor": 5
}
